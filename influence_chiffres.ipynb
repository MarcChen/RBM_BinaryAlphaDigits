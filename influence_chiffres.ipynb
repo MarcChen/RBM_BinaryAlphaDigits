{
 "cells": [
  {
   "cell_type": "code",
   "id": "initial_id",
   "metadata": {
    "collapsed": true,
    "ExecuteTime": {
     "end_time": "2025-01-01T19:19:51.952810Z",
     "start_time": "2025-01-01T19:19:48.057025Z"
    }
   },
   "source": [
    "from src.RBM_model import RBM\n",
    "from src.load_dataset import lire_alpha_digit, get_image_size\n",
    "from src.generate import generer_image_RBM"
   ],
   "outputs": [],
   "execution_count": 1
  },
  {
   "metadata": {
    "ExecuteTime": {
     "end_time": "2025-01-01T19:20:14.369166Z",
     "start_time": "2025-01-01T19:20:14.350190Z"
    }
   },
   "cell_type": "code",
   "source": [
    "X_1 = lire_alpha_digit(['1','2','3','4','5','6','7','8','9','0'])\n",
    "X_2 = lire_alpha_digit(['2','3','4','5','6','7','8','9','0'])"
   ],
   "id": "d5630ac00e45e2c3",
   "outputs": [],
   "execution_count": 2
  },
  {
   "metadata": {
    "ExecuteTime": {
     "end_time": "2025-01-01T19:20:31.276533Z",
     "start_time": "2025-01-01T19:20:31.271768Z"
    }
   },
   "cell_type": "code",
   "source": [
    "p1, p2 = X_1.shape[1], X_2.shape[1]\n",
    "lr = 0.01\n",
    "batch_size = 10\n",
    "epochs = 1000\n",
    "q = 300"
   ],
   "id": "65161e163d24f356",
   "outputs": [],
   "execution_count": 3
  },
  {
   "metadata": {
    "ExecuteTime": {
     "end_time": "2025-01-01T19:20:39.081132Z",
     "start_time": "2025-01-01T19:20:39.075382Z"
    }
   },
   "cell_type": "code",
   "source": [
    "history_list, weights_list, free_energy_list, weight_snapshots_list, gradients_list, avg_activations_list, hidden_probs_snapshots_list = ([] for _ in range(7))\n",
    "rbm_list = []"
   ],
   "id": "6d172c8c3eab01a8",
   "outputs": [],
   "execution_count": 4
  },
  {
   "metadata": {
    "ExecuteTime": {
     "end_time": "2025-01-01T19:22:56.544271Z",
     "start_time": "2025-01-01T19:20:58.453505Z"
    }
   },
   "cell_type": "code",
   "source": [
    "for i, (X,p) in enumerate(zip([X_1, X_2],[p1, p2])):\n",
    "    rbm = RBM(p, q)\n",
    "    history, weights, free_energy, weight_snapshots, gradients, avg_activations, hidden_probs_snapshots = rbm.train_RBM(X, learning_rate=lr, batch_size=batch_size, epochs=epochs)\n",
    "    history_list.append(history)\n",
    "    weights_list.append(weights)\n",
    "    free_energy_list.append(free_energy)\n",
    "    weight_snapshots_list.append(weight_snapshots)\n",
    "    gradients_list.append(gradients)\n",
    "    avg_activations_list.append(avg_activations)\n",
    "    hidden_probs_snapshots_list.append(hidden_probs_snapshots)\n",
    "    rbm_list.append(rbm)"
   ],
   "id": "ffe20f1aa15a80fc",
   "outputs": [
    {
     "name": "stderr",
     "output_type": "stream",
     "text": [
      "100%|██████████| 1000/1000 [01:04<00:00, 15.45it/s]\n",
      "100%|██████████| 1000/1000 [00:53<00:00, 18.74it/s]\n"
     ]
    }
   ],
   "execution_count": 6
  },
  {
   "metadata": {
    "ExecuteTime": {
     "end_time": "2025-01-01T19:25:13.151275Z",
     "start_time": "2025-01-01T19:25:13.148324Z"
    }
   },
   "cell_type": "code",
   "source": "X_list = [X_1, X_2]",
   "id": "16b1b464002abead",
   "outputs": [],
   "execution_count": 8
  },
  {
   "metadata": {
    "ExecuteTime": {
     "end_time": "2025-01-01T19:25:26.570816Z",
     "start_time": "2025-01-01T19:25:14.290544Z"
    }
   },
   "cell_type": "code",
   "source": [
    "import numpy as np\n",
    "from scipy.spatial.distance import jensenshannon\n",
    "\n",
    "def js_divergence(data1, data2):\n",
    "    data1_hist, _ = np.histogram(data1, bins=100, density=True)\n",
    "    data2_hist, _ = np.histogram(data2, bins=100, density=True)\n",
    "    js_div = jensenshannon(data1_hist, data2_hist)\n",
    "    return js_div\n",
    "\n",
    "js_divergences = []\n",
    "for i, rbm in enumerate(rbm_list):\n",
    "    generated_data = generer_image_RBM(model=rbm, nb_images=len(X_list[i]), nb_iter=200, size_img=get_image_size())\n",
    "    js_div = js_divergence(X_list[i], generated_data)\n",
    "    js_divergences.append(js_div)\n",
    "    print(f\"Model {i+1} JS Divergence: {js_div}\")"
   ],
   "id": "506233bb635ad732",
   "outputs": [
    {
     "name": "stdout",
     "output_type": "stream",
     "text": [
      "Model 1 JS Divergence: 0.3505745540899058\n",
      "Model 2 JS Divergence: 0.03874810261823308\n"
     ]
    }
   ],
   "execution_count": 9
  }
 ],
 "metadata": {
  "kernelspec": {
   "display_name": "Python 3",
   "language": "python",
   "name": "python3"
  },
  "language_info": {
   "codemirror_mode": {
    "name": "ipython",
    "version": 2
   },
   "file_extension": ".py",
   "mimetype": "text/x-python",
   "name": "python",
   "nbconvert_exporter": "python",
   "pygments_lexer": "ipython2",
   "version": "2.7.6"
  }
 },
 "nbformat": 4,
 "nbformat_minor": 5
}
